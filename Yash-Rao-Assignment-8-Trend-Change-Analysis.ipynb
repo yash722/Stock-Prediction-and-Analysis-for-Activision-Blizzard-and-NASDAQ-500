{
 "cells": [
  {
   "cell_type": "code",
   "execution_count": 1,
   "metadata": {},
   "outputs": [],
   "source": [
    "import pandas as pd\n",
    "import numpy as np\n",
    "from sklearn.linear_model import LinearRegression\n",
    "from sklearn.metrics import mean_squared_error\n",
    "from scipy.stats import f as fisher_f\n",
    "import matplotlib.pyplot as plt"
   ]
  },
  {
   "cell_type": "code",
   "execution_count": 2,
   "metadata": {},
   "outputs": [],
   "source": [
    "df_atvi = pd.read_csv(\"atvi_weekly_return_detailed.csv\")\n",
    "df_spy = pd.read_csv(\"spy_weekly_return_detailed.csv\")"
   ]
  },
  {
   "cell_type": "code",
   "execution_count": 3,
   "metadata": {},
   "outputs": [],
   "source": [
    "df_atvi_yr1 = df_atvi[df_atvi[\"Year\"] == 2021]\n",
    "df_spy_yr1 = df_spy[df_spy[\"Year\"] == 2021]\n",
    "\n",
    "df_atvi_yr2 = df_atvi[df_atvi[\"Year\"] == 2022]\n",
    "df_spy_yr2 = df_spy[df_spy[\"Year\"] == 2022]"
   ]
  },
  {
   "cell_type": "code",
   "execution_count": 4,
   "metadata": {},
   "outputs": [],
   "source": [
    "def assign_months(df):\n",
    "    dates = df[\"Date\"].values\n",
    "    df[\"Month\"] = \"\"\n",
    "    for i in range(dates.shape[0]):\n",
    "        df.iat[i, -1] = dates[i][5:7]"
   ]
  },
  {
   "cell_type": "code",
   "execution_count": 5,
   "metadata": {},
   "outputs": [
    {
     "name": "stderr",
     "output_type": "stream",
     "text": [
      "<ipython-input-4-45b8c491ee22>:3: SettingWithCopyWarning: \n",
      "A value is trying to be set on a copy of a slice from a DataFrame.\n",
      "Try using .loc[row_indexer,col_indexer] = value instead\n",
      "\n",
      "See the caveats in the documentation: https://pandas.pydata.org/pandas-docs/stable/user_guide/indexing.html#returning-a-view-versus-a-copy\n",
      "  df[\"Month\"] = \"\"\n"
     ]
    }
   ],
   "source": [
    "assign_months(df_atvi_yr1)\n",
    "assign_months(df_atvi_yr2)\n",
    "assign_months(df_spy_yr1)\n",
    "assign_months(df_spy_yr2)"
   ]
  },
  {
   "cell_type": "code",
   "execution_count": 6,
   "metadata": {},
   "outputs": [
    {
     "name": "stdout",
     "output_type": "stream",
     "text": [
      "Total trading days in each Month\n"
     ]
    },
    {
     "data": {
      "text/html": [
       "<div>\n",
       "<style scoped>\n",
       "    .dataframe tbody tr th:only-of-type {\n",
       "        vertical-align: middle;\n",
       "    }\n",
       "\n",
       "    .dataframe tbody tr th {\n",
       "        vertical-align: top;\n",
       "    }\n",
       "\n",
       "    .dataframe thead th {\n",
       "        text-align: right;\n",
       "    }\n",
       "</style>\n",
       "<table border=\"1\" class=\"dataframe\">\n",
       "  <thead>\n",
       "    <tr style=\"text-align: right;\">\n",
       "      <th></th>\n",
       "      <th>Month</th>\n",
       "      <th>Date</th>\n",
       "    </tr>\n",
       "  </thead>\n",
       "  <tbody>\n",
       "    <tr>\n",
       "      <th>0</th>\n",
       "      <td>01</td>\n",
       "      <td>19</td>\n",
       "    </tr>\n",
       "    <tr>\n",
       "      <th>1</th>\n",
       "      <td>02</td>\n",
       "      <td>19</td>\n",
       "    </tr>\n",
       "    <tr>\n",
       "      <th>2</th>\n",
       "      <td>03</td>\n",
       "      <td>23</td>\n",
       "    </tr>\n",
       "    <tr>\n",
       "      <th>3</th>\n",
       "      <td>04</td>\n",
       "      <td>21</td>\n",
       "    </tr>\n",
       "    <tr>\n",
       "      <th>4</th>\n",
       "      <td>05</td>\n",
       "      <td>20</td>\n",
       "    </tr>\n",
       "    <tr>\n",
       "      <th>5</th>\n",
       "      <td>06</td>\n",
       "      <td>22</td>\n",
       "    </tr>\n",
       "    <tr>\n",
       "      <th>6</th>\n",
       "      <td>07</td>\n",
       "      <td>21</td>\n",
       "    </tr>\n",
       "    <tr>\n",
       "      <th>7</th>\n",
       "      <td>08</td>\n",
       "      <td>22</td>\n",
       "    </tr>\n",
       "    <tr>\n",
       "      <th>8</th>\n",
       "      <td>09</td>\n",
       "      <td>21</td>\n",
       "    </tr>\n",
       "    <tr>\n",
       "      <th>9</th>\n",
       "      <td>10</td>\n",
       "      <td>21</td>\n",
       "    </tr>\n",
       "    <tr>\n",
       "      <th>10</th>\n",
       "      <td>11</td>\n",
       "      <td>21</td>\n",
       "    </tr>\n",
       "    <tr>\n",
       "      <th>11</th>\n",
       "      <td>12</td>\n",
       "      <td>22</td>\n",
       "    </tr>\n",
       "  </tbody>\n",
       "</table>\n",
       "</div>"
      ],
      "text/plain": [
       "   Month  Date\n",
       "0     01    19\n",
       "1     02    19\n",
       "2     03    23\n",
       "3     04    21\n",
       "4     05    20\n",
       "5     06    22\n",
       "6     07    21\n",
       "7     08    22\n",
       "8     09    21\n",
       "9     10    21\n",
       "10    11    21\n",
       "11    12    22"
      ]
     },
     "execution_count": 6,
     "metadata": {},
     "output_type": "execute_result"
    }
   ],
   "source": [
    "print(\"Total trading days in each Month\")\n",
    "df_atvi_yr1.groupby(\"Month\")[\"Date\"].count().reset_index()"
   ]
  },
  {
   "cell_type": "code",
   "execution_count": 15,
   "metadata": {},
   "outputs": [],
   "source": [
    "months = [\"01\", \"02\", \"03\", \"04\", \"05\", \"06\", \"07\", \"08\", \"09\", \"10\", \"11\", \"12\"]\n",
    "def get_sig_diffs(df, months):\n",
    "    sig_dif = 0\n",
    "    for i in months:\n",
    "        data_in_month_i = df[df[\"Month\"] == i]\n",
    "        days = np.arange(1, data_in_month_i.shape[0] + 1)\n",
    "        closings = data_in_month_i[\"Adj Close\"].values\n",
    "        x = days.reshape(-1, 1)\n",
    "        y = closings.reshape(-1, 1)\n",
    "        lm_i = LinearRegression().fit(x, y)\n",
    "        predictions = lm_i.predict(x)\n",
    "        mse = mean_squared_error(y, predictions)\n",
    "        sse_total = mse*days.shape[0]\n",
    "        minimum = sse_total\n",
    "        k1,k2 = 0,0\n",
    "        for j in range(1, days.shape[0] - 2):\n",
    "            x1 = days[:days[j]].reshape(-1, 1)\n",
    "            x2 = days[days[j]:].reshape(-1, 1)\n",
    "            y1 = closings[:days[j]].reshape(-1, 1)\n",
    "            y2 = closings[days[j]:].reshape(-1, 1)\n",
    "            lm1 = LinearRegression().fit(x1, y1)\n",
    "            pred1 = lm1.predict(x1)\n",
    "            mse1 = mean_squared_error(y1, pred1)\n",
    "            sse1 = mse1*days[j]\n",
    "            lm2 = LinearRegression().fit(x2, y2)\n",
    "            pred2 = lm2.predict(x2)\n",
    "            mse2 = mean_squared_error(y2, pred2)\n",
    "            sse2 = mse2*(days.shape[0] - days[j])\n",
    "            if sse1 + sse2 <= minimum:\n",
    "                minimum = sse1 + sse2\n",
    "                k1 = days[j]\n",
    "                k2 = days.shape[0] - days[j]\n",
    "        numerator = (sse_total - minimum)/2\n",
    "        denominator = minimum/(days.shape[0] - 4)\n",
    "        f_val = numerator/denominator\n",
    "        # Getting P-Value for One Tailed F-Test\n",
    "        p_val = 1 - fisher_f.cdf(f_val, 2, days.shape[0] - 4)\n",
    "        if p_val < 0.1:\n",
    "            print(f\"For Month {i} -> Candidate Days = ({k1},{k2}). The difference is significant\")\n",
    "            sig_dif += 1\n",
    "        else:\n",
    "            print(f\"For Month {i} -> Candidate Days = ({k1},{k2}). The difference is not significant\")\n",
    "        \n",
    "        # Plotting graphs to check linear regression lines\n",
    "        # x1 = days[:k1].reshape(-1, 1)\n",
    "        # x2 = days[k1:].reshape(-1, 1)\n",
    "        # y1 = closings[:k1].reshape(-1, 1)\n",
    "        # y2 = closings[k1:].reshape(-1, 1)\n",
    "        # lm1 = LinearRegression().fit(x1, y1)\n",
    "        # pred1 = lm1.predict(x1)\n",
    "        # lm2 = LinearRegression().fit(x2, y2)\n",
    "        # pred2 = lm2.predict(x2)\n",
    "        # plt.figure(figsize=(10, 10))\n",
    "        # plt.scatter(x1, y1)\n",
    "        # plt.scatter(x2, y2)\n",
    "        # plt.plot(x1, pred1)\n",
    "        # plt.plot(x2, pred2)\n",
    "        # plt.show()\n",
    "    print(f\"Total Significant Differences -> {sig_dif}\")"
   ]
  },
  {
   "cell_type": "code",
   "execution_count": 16,
   "metadata": {},
   "outputs": [
    {
     "name": "stdout",
     "output_type": "stream",
     "text": [
      "For Activision Blizzard Year 1 ->\n",
      "For Month 01 -> Candidate Days = (11,8). The difference is significant\n",
      "For Month 02 -> Candidate Days = (8,11). The difference is significant\n",
      "For Month 03 -> Candidate Days = (6,17). The difference is significant\n",
      "For Month 04 -> Candidate Days = (12,9). The difference is significant\n",
      "For Month 05 -> Candidate Days = (7,13). The difference is significant\n",
      "For Month 06 -> Candidate Days = (11,11). The difference is significant\n",
      "For Month 07 -> Candidate Days = (17,4). The difference is significant\n",
      "For Month 08 -> Candidate Days = (7,15). The difference is significant\n",
      "For Month 09 -> Candidate Days = (13,8). The difference is significant\n",
      "For Month 10 -> Candidate Days = (13,8). The difference is significant\n",
      "For Month 11 -> Candidate Days = (2,19). The difference is significant\n",
      "For Month 12 -> Candidate Days = (7,15). The difference is significant\n",
      "Total Significant Differences -> 12\n",
      "\n",
      "For Activision Blizzard Year 2 ->\n",
      "For Month 01 -> Candidate Days = (10,10). The difference is significant\n",
      "For Month 02 -> Candidate Days = (6,13). The difference is significant\n",
      "For Month 03 -> Candidate Days = (12,11). The difference is significant\n",
      "For Month 04 -> Candidate Days = (16,4). The difference is significant\n",
      "For Month 05 -> Candidate Days = (4,17). The difference is significant\n",
      "For Month 06 -> Candidate Days = (8,13). The difference is significant\n",
      "For Month 07 -> Candidate Days = (11,9). The difference is significant\n",
      "For Month 08 -> Candidate Days = (12,11). The difference is significant\n",
      "For Month 09 -> Candidate Days = (7,14). The difference is not significant\n",
      "For Month 10 -> Candidate Days = (9,12). The difference is significant\n",
      "For Month 11 -> Candidate Days = (7,14). The difference is significant\n",
      "For Month 12 -> Candidate Days = (7,14). The difference is significant\n",
      "Total Significant Differences -> 11\n"
     ]
    }
   ],
   "source": [
    "print(\"For Activision Blizzard Year 1 ->\")\n",
    "get_sig_diffs(df_atvi_yr1, months)\n",
    "print(\"\\nFor Activision Blizzard Year 2 ->\")\n",
    "get_sig_diffs(df_atvi_yr2, months)"
   ]
  },
  {
   "cell_type": "code",
   "execution_count": 17,
   "metadata": {},
   "outputs": [
    {
     "name": "stdout",
     "output_type": "stream",
     "text": [
      "For S&P 500 Year 1 ->\n",
      "For Month 01 -> Candidate Days = (16,3). The difference is significant\n",
      "For Month 02 -> Candidate Days = (9,10). The difference is significant\n",
      "For Month 03 -> Candidate Days = (6,17). The difference is significant\n",
      "For Month 04 -> Candidate Days = (11,10). The difference is significant\n",
      "For Month 05 -> Candidate Days = (7,13). The difference is significant\n",
      "For Month 06 -> Candidate Days = (13,9). The difference is significant\n",
      "For Month 07 -> Candidate Days = (10,11). The difference is significant\n",
      "For Month 08 -> Candidate Days = (12,10). The difference is significant\n",
      "For Month 09 -> Candidate Days = (15,6). The difference is significant\n",
      "For Month 10 -> Candidate Days = (9,12). The difference is significant\n",
      "For Month 11 -> Candidate Days = (18,3). The difference is significant\n",
      "For Month 12 -> Candidate Days = (12,10). The difference is significant\n",
      "Total Significant Differences -> 12\n",
      "\n",
      "For S&P 500 Year 2 ->\n",
      "For Month 01 -> Candidate Days = (13,7). The difference is significant\n",
      "For Month 02 -> Candidate Days = (15,4). The difference is significant\n",
      "For Month 03 -> Candidate Days = (11,12). The difference is significant\n",
      "For Month 04 -> Candidate Days = (11,9). The difference is significant\n",
      "For Month 05 -> Candidate Days = (14,7). The difference is significant\n",
      "For Month 06 -> Candidate Days = (8,13). The difference is significant\n",
      "For Month 07 -> Candidate Days = (6,14). The difference is significant\n",
      "For Month 08 -> Candidate Days = (10,13). The difference is significant\n",
      "For Month 09 -> Candidate Days = (7,14). The difference is significant\n",
      "For Month 10 -> Candidate Days = (4,17). The difference is significant\n",
      "For Month 11 -> Candidate Days = (7,14). The difference is significant\n",
      "For Month 12 -> Candidate Days = (10,11). The difference is significant\n",
      "Total Significant Differences -> 12\n"
     ]
    }
   ],
   "source": [
    "print(\"For S&P 500 Year 1 ->\")\n",
    "get_sig_diffs(df_spy_yr1, months)\n",
    "print(\"\\nFor S&P 500 Year 2 ->\")\n",
    "get_sig_diffs(df_spy_yr2, months)"
   ]
  }
 ],
 "metadata": {
  "kernelspec": {
   "display_name": "base",
   "language": "python",
   "name": "python3"
  },
  "language_info": {
   "codemirror_mode": {
    "name": "ipython",
    "version": 3
   },
   "file_extension": ".py",
   "mimetype": "text/x-python",
   "name": "python",
   "nbconvert_exporter": "python",
   "pygments_lexer": "ipython3",
   "version": "3.8.5"
  }
 },
 "nbformat": 4,
 "nbformat_minor": 2
}
